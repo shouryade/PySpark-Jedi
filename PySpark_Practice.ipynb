{
 "cells": [
  {
   "cell_type": "markdown",
   "id": "47e4d4c8",
   "metadata": {},
   "source": [
    "### This notebook has been solely created for the purpose of doing the Spark assignments on a local machine.\n",
    "\n",
    "Hence, the outputs might differ from the final submission notebook created, since only a small fraction of the dataset has been used to practice the questions on my local machine"
   ]
  },
  {
   "cell_type": "code",
   "execution_count": null,
   "id": "889c8276",
   "metadata": {},
   "outputs": [],
   "source": [
    "import pandas as pd\n",
    "from pyspark.sql import SparkSession\n",
    "from pyspark.sql import SQLContext\n",
    "\n",
    "spark = SparkSession \\\n",
    "    .builder \\\n",
    "    .appName(\"databricks-exercise\") \\\n",
    "    .config(\"spark.some.config.option\", \"some-value\") \\\n",
    "    .getOrCreate()\n",
    "sqlContext = SQLContext(spark)\n",
    "from pyspark.sql import functions as f"
   ]
  },
  {
   "cell_type": "code",
   "execution_count": 2,
   "id": "9c59d4c5",
   "metadata": {},
   "outputs": [
    {
     "name": "stderr",
     "output_type": "stream",
     "text": [
      "                                                                                \r"
     ]
    }
   ],
   "source": [
    "csvFile=spark.read.csv('export.csv',header=True,inferSchema=True)"
   ]
  },
  {
   "cell_type": "code",
   "execution_count": 3,
   "id": "c7e5e19d",
   "metadata": {},
   "outputs": [
    {
     "name": "stderr",
     "output_type": "stream",
     "text": [
      "                                                                                \r"
     ]
    },
    {
     "data": {
      "text/plain": [
       "14"
      ]
     },
     "execution_count": 3,
     "metadata": {},
     "output_type": "execute_result"
    }
   ],
   "source": [
    "csvFile.select('UniqueCarrier').distinct().count()"
   ]
  },
  {
   "cell_type": "code",
   "execution_count": 4,
   "id": "ea3d96d5",
   "metadata": {},
   "outputs": [
    {
     "name": "stderr",
     "output_type": "stream",
     "text": [
      "                                                                                \r"
     ]
    },
    {
     "name": "stdout",
     "output_type": "stream",
     "text": [
      "The most delayed on departure airline is AA.\n"
     ]
    },
    {
     "name": "stderr",
     "output_type": "stream",
     "text": [
      "                                                                                \r"
     ]
    },
    {
     "data": {
      "image/png": "[encoded data removed]",
      "text/plain": [
       "<Figure size 720x504 with 1 Axes>"
      ]
     },
     "metadata": {
      "needs_background": "light"
     },
     "output_type": "display_data"
    }
   ],
   "source": [
    "df = csvFile\n",
    "import matplotlib.pyplot as plt\n",
    "\n",
    "#get a view dataframe sorted desc order\n",
    "view=df.groupby(\"UniqueCarrier\").agg(f.sum((f.when(f.col('IsDepDelayed')=='YES',1)))\\\n",
    "                                     .alias('Count')).sort(f.col('Count').desc())\n",
    "\n",
    "# display(view.head()) returns an array of the topmost value \n",
    "print(\"The most delayed on departure airline is {}.\".format(view.head()[0]))\n",
    "\n",
    "#getting a bar graph of top five delayed airlines converting the Dataframe to a Pandas Dataframe to use matplotlib\n",
    "bar1=view.toPandas()\n",
    "name = bar1['UniqueCarrier'].head(5)\n",
    "price = bar1['Count'].head(5)\n",
    " \n",
    "# Figure Size according to my preference\n",
    "fig = plt.figure(figsize =(10, 7))\n",
    " \n",
    "# Horizontal Bar Plot\n",
    "plt.bar(name, price)\n",
    "plt.title('Top Five Most Delayed Airlines')\n",
    "plt.xlabel('Airline Carrier Names')\n",
    "plt.ylabel('Count of Delays')\n",
    "# Show Plot\n",
    "plt.show()"
   ]
  },
  {
   "cell_type": "markdown",
   "id": "52efc9fc",
   "metadata": {},
   "source": [
    "\n",
    "#### Airlines Question 4 [15 Points]\n",
    "What was the average arrival delay per airline, and on average, did flights arrive early or late? \n",
    "\n",
    "Add a column to this new dataframe (containing the grouped averages) that contains the string \"Late\" if the average arrival for that airline arrive >15 minutes late, \"Early\" if the average arrival is <0 minutes late, and \"On-time\" if the average arrival is between 0 and 15 minutes late.\n",
    "\n",
    "To add the additional column, use a Spark UDF. Additionally, make sure to filter out or fill in null values in your dataframe (if there are any) prior to applying the UDF."
   ]
  },
  {
   "cell_type": "code",
   "execution_count": 5,
   "id": "ad30eb56",
   "metadata": {},
   "outputs": [
    {
     "name": "stdout",
     "output_type": "stream",
     "text": [
      "Average Arrival Delay Per Airline\n"
     ]
    },
    {
     "name": "stderr",
     "output_type": "stream",
     "text": [
      "                                                                                \r"
     ]
    },
    {
     "name": "stdout",
     "output_type": "stream",
     "text": [
      "+-------------+---------------------------------------+\n",
      "|UniqueCarrier|Average Arrival Delay Time (in minutes)|\n",
      "+-------------+---------------------------------------+\n",
      "|           AA|                      6.207145998858287|\n",
      "|       PA (1)|                      7.462260986246226|\n",
      "|           WN|                      9.602103642893791|\n",
      "|           HP|                      9.975197889182057|\n",
      "|           US|                     10.417063299336247|\n",
      "|           AS|                     10.884908628827302|\n",
      "|           PI|                      11.34330879004099|\n",
      "|           EA|                     11.709370804618276|\n",
      "|           TW|                     12.986250332653242|\n",
      "|           DL|                     13.875554158671342|\n",
      "|           CO|                     14.538406041075465|\n",
      "|           NW|                     14.999943054013269|\n",
      "|           UA|                     15.911314285714285|\n",
      "|           PS|                     21.705255951928198|\n",
      "+-------------+---------------------------------------+\n",
      "\n",
      "\n",
      "\n",
      "Flights arrived On Time.\n"
     ]
    },
    {
     "name": "stderr",
     "output_type": "stream",
     "text": [
      "                                                                                \r"
     ]
    },
    {
     "name": "stdout",
     "output_type": "stream",
     "text": [
      "+---------------------------------------------------+\n",
      "|Average Arrival Delay for all Airlines (in minutes)|\n",
      "+---------------------------------------------------+\n",
      "|                                 12.258434561718499|\n",
      "+---------------------------------------------------+\n",
      "\n",
      "\n",
      "\n",
      "\n",
      "Dataframe with status column\n",
      "+-------------+---------------------------------------+-------+\n",
      "|UniqueCarrier|Average Arrival Delay Time (in minutes)| Status|\n",
      "+-------------+---------------------------------------+-------+\n",
      "|           AA|                      6.207145998858287|On Time|\n",
      "|       PA (1)|                      7.462260986246226|On Time|\n",
      "|           WN|                      9.602103642893791|On Time|\n",
      "|           HP|                      9.975197889182057|On Time|\n",
      "|           US|                     10.417063299336247|On Time|\n",
      "|           AS|                     10.884908628827302|On Time|\n",
      "|           PI|                      11.34330879004099|On Time|\n",
      "|           EA|                     11.709370804618276|On Time|\n",
      "|           TW|                     12.986250332653242|On Time|\n",
      "|           DL|                     13.875554158671342|On Time|\n",
      "|           CO|                     14.538406041075465|On Time|\n",
      "|           NW|                     14.999943054013269|On Time|\n",
      "|           UA|                     15.911314285714285|   Late|\n",
      "|           PS|                     21.705255951928198|   Late|\n",
      "+-------------+---------------------------------------+-------+\n",
      "\n"
     ]
    }
   ],
   "source": [
    "#remove NA values\n",
    "dataframe=df.where(df.ArrDelay!='NA')\n",
    "\n",
    "# sub ques 1\n",
    "#Show Mean Arrival Delays Grouping by Unique Carrier\n",
    "print(\"Average Arrival Delay Per Airline\")\n",
    "dataframe.groupBy(\"UniqueCarrier\").agg(f.mean('ArrDelay')\\\n",
    "                                       .alias('Average Arrival Delay Time (in minutes)'))\\\n",
    ".sort(f.col('Average Arrival Delay Time (in minutes)')).show()\n",
    "\n",
    "#create a new dataframe based on asc sorted dataframe\n",
    "new_df=dataframe.groupBy(\"UniqueCarrier\").agg(f.mean('ArrDelay')\\\n",
    "                                              .alias('Average Arrival Delay Time (in minutes)'))\\\n",
    ".sort(f.col('Average Arrival Delay Time (in minutes)'))\n",
    "\n",
    "print(\"\\n\")\n",
    "\n",
    "\n",
    "#Show aggregted average Arrival Delay Time \n",
    "\n",
    "agg_avg=new_df.agg(f.mean('Average Arrival Delay Time (in minutes)')\\\n",
    "           .alias('Average Arrival Delay for all Airlines (in minutes)')).head()\n",
    "\n",
    "if agg_avg[0]<0:\n",
    "    print(\"Flights on average arrived Early.\")\n",
    "elif agg_avg[0]>15:\n",
    "    print(\"Flights on average arrived Late.\")\n",
    "else:\n",
    "    print(\"Flights arrived On Time.\")\n",
    "\n",
    "new_df.agg(f.mean('Average Arrival Delay Time (in minutes)')\\\n",
    "           .alias('Average Arrival Delay for all Airlines (in minutes)')).show()\n",
    "\n",
    "print(\"\\n\\n\")\n",
    "\n",
    "#sub ques 2\n",
    "#Creating a new Dataframe and using Spark UDF withColum() function\n",
    "print(\"Dataframe with status column\")\n",
    "new_df.withColumn(\"Status\", f.when(f.column('Average Arrival Delay Time (in minutes)')\n",
    "                                       .between(0,15),\"On Time\")\\\n",
    "                  .when(f.column('Average Arrival Delay Time (in minutes)')<0.0,\"Early\")\\\n",
    "                  .otherwise(\"Late\")\n",
    "                 ).show()\n"
   ]
  },
  {
   "cell_type": "markdown",
   "id": "33acd994",
   "metadata": {},
   "source": [
    "## Using Baby Names Data Set\n",
    "\n",
    "This dataset comes from a website referenced by [Data.gov](http://catalog.data.gov/dataset/baby-names-beginning-2007). It lists baby names used in the state of NY from 2007 to 2012.\n",
    "\n",
    "Run the following three cells to copy this file to the cluster."
   ]
  },
  {
   "cell_type": "markdown",
   "id": "81e56c65",
   "metadata": {},
   "source": [
    "https://health.data.ny.gov/api/views/jxy9-yhdk/rows.json?accessType=DOWNLOAD"
   ]
  },
  {
   "cell_type": "markdown",
   "id": "982b186c",
   "metadata": {},
   "source": [
    "%fs rm dbfs:/tmp/rows.json"
   ]
  },
  {
   "cell_type": "markdown",
   "id": "cbeda8cf",
   "metadata": {},
   "source": [
    "%scala\n",
    "\n",
    "import java.net.URL\n",
    "import java.io.File\n",
    "import org.apache.commons.io.FileUtils\n",
    "\n",
    "val tmpFile = new File(\"/tmp/rows.json\")\n",
    "FileUtils.copyURLToFile(new URL(\"https://health.data.ny.gov/api/views/jxy9-yhdk/rows.json?accessType=DOWNLOAD\"), tmpFile)"
   ]
  },
  {
   "cell_type": "markdown",
   "id": "17542e03",
   "metadata": {},
   "source": [
    "%fs mv file:/tmp/rows.json dbfs:/tmp/rows.json"
   ]
  },
  {
   "cell_type": "markdown",
   "id": "61ffd504",
   "metadata": {},
   "source": [
    "#### Baby Names Question 1 - Nested Data [15 Points]\n",
    "\n",
    "\n",
    "Use Spark SQL's native JSON support to read the baby names file into a dataframe. Use this dataframe to create a temporary table containing all the nested data columns (\"sid\", \"id\", \"position\", \"created_at\", \"created_meta\", \"updated_at\", \"updated_meta\", \"meta\", \"year\", \"first_name\", \"county\", \"sex\", \"count\") so that they can be queried using SQL. \n",
    "\n",
    "Hint: you can use ```%fs head dbfs:/tmp/rows.json``` to take a look at the dataset before reading it in. \n",
    "\n",
    "Suggested Steps:\n",
    "1. Read in the JSON data\n",
    "2. Pull all columns in the nested data column to top level, following the schema specified above\n",
    "3. Create a temp table from this expanded dataframe using createOrReplaceTempView()"
   ]
  },
  {
   "cell_type": "code",
   "execution_count": 6,
   "id": "ad3e7320",
   "metadata": {},
   "outputs": [
    {
     "name": "stderr",
     "output_type": "stream",
     "text": [
      "22/04/01 02:49:22 WARN package: Truncated the string representation of a plan since it was too large. This behavior can be adjusted by setting 'spark.sql.debug.maxToStringFields'.\n",
      "[Stage 50:>                                                         (0 + 1) / 1]\r"
     ]
    },
    {
     "name": "stdout",
     "output_type": "stream",
     "text": [
      "+------------------+--------------------+--------+----------+------------+----------+------------+----+----+----------+-----------+---+-----+\n",
      "|               sid|                  id|position|created_at|created_meta|updated_at|updated_meta|meta|year|first_name|    country|sex|count|\n",
      "+------------------+--------------------+--------+----------+------------+----------+------------+----+----+----------+-----------+---+-----+\n",
      "|row-r9pv-p86t.ifsp|00000000-0000-000...|       0|1574264158|        null|1574264158|        null| { }|2007|      ZOEY|      KINGS|  F|   11|\n",
      "|row-7v2v~88z5-44se|00000000-0000-000...|       0|1574264158|        null|1574264158|        null| { }|2007|      ZOEY|    SUFFOLK|  F|    6|\n",
      "|row-hzc9-4kvv~mbc9|00000000-0000-000...|       0|1574264158|        null|1574264158|        null| { }|2007|      ZOEY|     MONROE|  F|    6|\n",
      "|row-3473_8cwy~3vez|00000000-0000-000...|       0|1574264158|        null|1574264158|        null| { }|2007|      ZOEY|       ERIE|  F|    9|\n",
      "|row-tyuh.nmy9.r2n3|00000000-0000-000...|       0|1574264158|        null|1574264158|        null| { }|2007|       ZOE|     ULSTER|  F|    5|\n",
      "|row-ct48~ui69-2zsn|00000000-0000-000...|       0|1574264158|        null|1574264158|        null| { }|2007|       ZOE|WESTCHESTER|  F|   24|\n",
      "|row-gdva~4v8k-vuwy|00000000-0000-000...|       0|1574264158|        null|1574264158|        null| { }|2007|       ZOE|      BRONX|  F|   13|\n",
      "|row-gzu3~a7hk~bqym|00000000-0000-000...|       0|1574264158|        null|1574264158|        null| { }|2007|       ZOE|   NEW YORK|  F|   55|\n",
      "|row-ekbw_tb7c.yvgp|00000000-0000-000...|       0|1574264158|        null|1574264158|        null| { }|2007|       ZOE|     NASSAU|  F|   15|\n",
      "|row-zk7s-r2ma_t8mk|00000000-0000-000...|       0|1574264158|        null|1574264158|        null| { }|2007|       ZOE|       ERIE|  F|    6|\n",
      "|row-ieja_864x~w2ki|00000000-0000-000...|       0|1574264158|        null|1574264158|        null| { }|2007|       ZOE|    SUFFOLK|  F|   14|\n",
      "|row-8fp4.rjtj.h46h|00000000-0000-000...|       0|1574264158|        null|1574264158|        null| { }|2007|       ZOE|      KINGS|  F|   34|\n",
      "|row-4ips.rj88_zm5z|00000000-0000-000...|       0|1574264158|        null|1574264158|        null| { }|2007|       ZOE|     MONROE|  F|    9|\n",
      "|row-7unr-77py~g5na|00000000-0000-000...|       0|1574264158|        null|1574264158|        null| { }|2007|       ZOE|     QUEENS|  F|   26|\n",
      "|row-f6r2-9fdj.hprv|00000000-0000-000...|       0|1574264158|        null|1574264158|        null| { }|2007|       ZOE|     ALBANY|  F|    5|\n",
      "|row-c5di~d73y-2g88|00000000-0000-000...|       0|1574264158|        null|1574264158|        null| { }|2007|     ZISSY|   ROCKLAND|  F|    5|\n",
      "|row-43dv.jsg3_ye53|00000000-0000-000...|       0|1574264158|        null|1574264158|        null| { }|2007|     ZISSY|      KINGS|  F|   27|\n",
      "|row-b8bm~5mk5.bvxe|00000000-0000-000...|       0|1574264158|        null|1574264158|        null| { }|2007|      ZION|      KINGS|  M|   15|\n",
      "|row-bw6e~37md-48h2|00000000-0000-000...|       0|1574264158|        null|1574264158|        null| { }|2007|      ZION|      BRONX|  M|   14|\n",
      "|row-7f3v.epcd.6gc7|00000000-0000-000...|       0|1574264158|        null|1574264158|        null| { }|2007|       ZEV|   ROCKLAND|  M|    6|\n",
      "+------------------+--------------------+--------+----------+------------+----------+------------+----+----+----------+-----------+---+-----+\n",
      "only showing top 20 rows\n",
      "\n"
     ]
    },
    {
     "name": "stderr",
     "output_type": "stream",
     "text": [
      "                                                                                \r"
     ]
    }
   ],
   "source": [
    "from pyspark.sql.functions import explode\n",
    "\n",
    "spark.read.json('rows.json', multiLine=True).select(explode(\"data\").alias(\"data\")).createOrReplaceTempView(\"data\")\n",
    "insightData=sqlContext.sql(\"SELECT data[0] AS sid, data[1] AS id, data[2] AS position, data[3] AS created_at, data[4] AS created_meta, data[5] AS updated_at, data[6] AS updated_meta, data[7] AS meta, data[8] AS year, data[9] AS first_name, data[10] AS country, data[11] AS sex, data[12] AS count FROM data\")\n",
    "\n",
    "\n",
    "insightData.show()\n",
    "insightData.createOrReplaceTempView(\"insightData\")\n"
   ]
  },
  {
   "cell_type": "markdown",
   "id": "4ed83574",
   "metadata": {},
   "source": [
    "Show most popular baby names for a year"
   ]
  },
  {
   "cell_type": "code",
   "execution_count": 66,
   "id": "4584c70c",
   "metadata": {},
   "outputs": [
    {
     "name": "stderr",
     "output_type": "stream",
     "text": [
      "\r\n",
      "[Stage 240:>                                                        (0 + 1) / 1]\r"
     ]
    },
    {
     "name": "stdout",
     "output_type": "stream",
     "text": [
      "+--------+-----+----+\n",
      "|name    |count|year|\n",
      "+--------+-----+----+\n",
      "|JOHN    |99   |2007|\n",
      "|JAKE    |99   |2007|\n",
      "|JEREMIAH|99   |2008|\n",
      "|MATTHEW |99   |2008|\n",
      "|JACK    |99   |2009|\n",
      "|SOPHIA  |99   |2009|\n",
      "|MADISON |99   |2009|\n",
      "|CHAIM   |99   |2010|\n",
      "|JUSTIN  |99   |2010|\n",
      "|LOGAN   |99   |2010|\n",
      "|GABRIEL |99   |2011|\n",
      "|JAYDEN  |99   |2011|\n",
      "|AARON   |99   |2011|\n",
      "|JOSHUA  |99   |2011|\n",
      "|MENACHEM|99   |2011|\n",
      "|MIA     |99   |2011|\n",
      "|MADISON |99   |2012|\n",
      "|JASON   |99   |2012|\n",
      "|JAMES   |99   |2013|\n",
      "|AARON   |99   |2013|\n",
      "|DYLAN   |99   |2013|\n",
      "|JAMES   |99   |2014|\n",
      "|JOSHUA  |99   |2014|\n",
      "|LOGAN   |99   |2015|\n",
      "|SOPHIA  |99   |2015|\n",
      "|ANTHONY |99   |2016|\n",
      "|MATTHEW |99   |2016|\n",
      "|MATTHEW |99   |2016|\n",
      "|DYLAN   |99   |2017|\n",
      "|ABIGAIL |99   |2018|\n",
      "|LUCAS   |99   |2018|\n",
      "|OLIVIA  |99   |2018|\n",
      "+--------+-----+----+\n",
      "\n"
     ]
    },
    {
     "name": "stderr",
     "output_type": "stream",
     "text": [
      "\r\n",
      "[Stage 242:>                                                        (0 + 1) / 1]\r\n",
      "\r\n",
      "                                                                                \r"
     ]
    }
   ],
   "source": [
    "# table=sqlContext.sql(\"SELECT year,max(count) as counter,first_name from insightData GROUP BY first_name,year order by max(count) desc\")\n",
    "table=sqlContext.sql('''SELECT\n",
    " name,\n",
    " count,\n",
    " year\n",
    "FROM (\n",
    "  SELECT\n",
    "     first_name as name,\n",
    " count,\n",
    " year,\n",
    "    dense_rank() OVER (PARTITION BY year ORDER BY count DESC) as rank\n",
    "  FROM insightData ) x \n",
    "WHERE\n",
    "  x.rank == 1\n",
    "order by year''')\n",
    "table.createOrReplaceTempView(\"table\")\n",
    "table.show(n=32,truncate=False)"
   ]
  },
  {
   "cell_type": "markdown",
   "id": "d6dcb88d",
   "metadata": {},
   "source": [
    "  #### Baby Names Question 4 - Nested XML [15 Points]\n",
    "Imagine that a new upstream system now automatically adds an XML field to the JSON baby dataset.  The added field is called visitors. It contains an XML string with visitor information for a given birth. We have simulated this upstream system by creating another JSON file with the additional field.  \n",
    "\n",
    "Using the JSON dataset at https://raw.githubusercontent.com/jservin/scratch-pad/master/rows-with-xml.json, do the following:\n",
    "1. read the rows-with-xml.json file into a dataframe and parse the nested XML fields into columns\n",
    "2. Find the county with the highest average number of visitors across all births in that county\n",
    "3. Find the average visitor age for a birth in the county of KINGS\n",
    "4. Find the most common birth visitor age in the county of KINGS\n"
   ]
  },
  {
   "cell_type": "code",
   "execution_count": 7,
   "id": "bceb95e4",
   "metadata": {},
   "outputs": [
    {
     "name": "stderr",
     "output_type": "stream",
     "text": [
      "[Stage 52:>                                                         (0 + 1) / 1]\r"
     ]
    },
    {
     "name": "stdout",
     "output_type": "stream",
     "text": [
      "+------------------+------------------------------------+--------+----------+----------+----+----+----------+-----------+---+----------+-------------+--------------+--------------+\n",
      "|sid               |Birth ID                            |position|created_at|updated_at|meta|year|first_name|county     |sex|name_count|id of visitor|age of visitor|sex of visitor|\n",
      "+------------------+------------------------------------+--------+----------+----------+----+----+----------+-----------+---+----------+-------------+--------------+--------------+\n",
      "|row-r9pv-p86t.ifsp|00000000-0000-0000-0838-60C2FFCC43AE|0       |1574264158|1574264158|{ } |2007|ZOEY      |KINGS      |F  |11        |9615         |68            |F             |\n",
      "|row-r9pv-p86t.ifsp|00000000-0000-0000-0838-60C2FFCC43AE|0       |1574264158|1574264158|{ } |2007|ZOEY      |KINGS      |F  |11        |1882         |34            |M             |\n",
      "|row-r9pv-p86t.ifsp|00000000-0000-0000-0838-60C2FFCC43AE|0       |1574264158|1574264158|{ } |2007|ZOEY      |KINGS      |F  |11        |5987         |23            |M             |\n",
      "|row-7v2v~88z5-44se|00000000-0000-0000-C8FC-DDD3F9A72DFF|0       |1574264158|1574264158|{ } |2007|ZOEY      |SUFFOLK    |F  |6         |3230         |45            |M             |\n",
      "|row-7v2v~88z5-44se|00000000-0000-0000-C8FC-DDD3F9A72DFF|0       |1574264158|1574264158|{ } |2007|ZOEY      |SUFFOLK    |F  |6         |5243         |44            |M             |\n",
      "|row-hzc9-4kvv~mbc9|00000000-0000-0000-562E-D9A0792557FC|0       |1574264158|1574264158|{ } |2007|ZOEY      |MONROE     |F  |6         |8631         |8             |M             |\n",
      "|row-3473_8cwy~3vez|00000000-0000-0000-B19D-7B88FF2FB6A0|0       |1574264158|1574264158|{ } |2007|ZOEY      |ERIE       |F  |9         |5233         |57            |M             |\n",
      "|row-tyuh.nmy9.r2n3|00000000-0000-0000-7D66-E7EC8F12BB8D|0       |1574264158|1574264158|{ } |2007|ZOE       |ULSTER     |F  |5         |7108         |58            |M             |\n",
      "|row-tyuh.nmy9.r2n3|00000000-0000-0000-7D66-E7EC8F12BB8D|0       |1574264158|1574264158|{ } |2007|ZOE       |ULSTER     |F  |5         |7555         |29            |M             |\n",
      "|row-tyuh.nmy9.r2n3|00000000-0000-0000-7D66-E7EC8F12BB8D|0       |1574264158|1574264158|{ } |2007|ZOE       |ULSTER     |F  |5         |3949         |44            |F             |\n",
      "|row-ct48~ui69-2zsn|00000000-0000-0000-7ECC-F350540A8F92|0       |1574264158|1574264158|{ } |2007|ZOE       |WESTCHESTER|F  |24        |667          |9             |M             |\n",
      "|row-gdva~4v8k-vuwy|00000000-0000-0000-30FB-CB5E36017AD5|0       |1574264158|1574264158|{ } |2007|ZOE       |BRONX      |F  |13        |8199         |14            |M             |\n",
      "|row-gdva~4v8k-vuwy|00000000-0000-0000-30FB-CB5E36017AD5|0       |1574264158|1574264158|{ } |2007|ZOE       |BRONX      |F  |13        |7545         |34            |M             |\n",
      "|row-gdva~4v8k-vuwy|00000000-0000-0000-30FB-CB5E36017AD5|0       |1574264158|1574264158|{ } |2007|ZOE       |BRONX      |F  |13        |617          |1             |F             |\n",
      "|row-gdva~4v8k-vuwy|00000000-0000-0000-30FB-CB5E36017AD5|0       |1574264158|1574264158|{ } |2007|ZOE       |BRONX      |F  |13        |1442         |49            |F             |\n",
      "|row-gzu3~a7hk~bqym|00000000-0000-0000-E380-AAAB1FA5C7A7|0       |1574264158|1574264158|{ } |2007|ZOE       |NEW YORK   |F  |55        |3890         |13            |F             |\n",
      "|row-gzu3~a7hk~bqym|00000000-0000-0000-E380-AAAB1FA5C7A7|0       |1574264158|1574264158|{ } |2007|ZOE       |NEW YORK   |F  |55        |5965         |30            |M             |\n",
      "|row-gzu3~a7hk~bqym|00000000-0000-0000-E380-AAAB1FA5C7A7|0       |1574264158|1574264158|{ } |2007|ZOE       |NEW YORK   |F  |55        |9770         |42            |F             |\n",
      "|row-ekbw_tb7c.yvgp|00000000-0000-0000-A7FF-8A4260B3A505|0       |1574264158|1574264158|{ } |2007|ZOE       |NASSAU     |F  |15        |2286         |50            |M             |\n",
      "|row-ekbw_tb7c.yvgp|00000000-0000-0000-A7FF-8A4260B3A505|0       |1574264158|1574264158|{ } |2007|ZOE       |NASSAU     |F  |15        |1809         |53            |M             |\n",
      "+------------------+------------------------------------+--------+----------+----------+----+----+----------+-----------+---+----------+-------------+--------------+--------------+\n",
      "only showing top 20 rows\n",
      "\n"
     ]
    },
    {
     "name": "stderr",
     "output_type": "stream",
     "text": [
      "                                                                                \r"
     ]
    }
   ],
   "source": [
    "df = spark.read.option(\"inferSchema\", True).json(\"births-with-visitor-data.json\")\n",
    "\n",
    "#learnt how to make a custom udf \n",
    "#stackoverflow reference https://stackoverflow.com/a/65644185\n",
    "import xml.etree.ElementTree as ET\n",
    "import pyspark.sql.functions as F\n",
    "\n",
    "@F.udf('array<struct<id:string, age:string, sex:string>>')\n",
    "def parse_xml(s):\n",
    "    root = ET.fromstring(s)\n",
    "    return list(map(lambda x: x.attrib, root.findall('visitor')))\n",
    "\n",
    "\n",
    "#create a nested struct dataframe after parsing\n",
    "df2 = df.select(df[\"county\"], df[\"created_at\"], df[\"first_name\"], F.col(\"id\").alias(\"Birth ID\"), df[\"meta\"], df[\"name_count\"], \n",
    "                df[\"position\"], df[\"sex\"], df[\"sid\"], df[\"updated_at\"],df[\"year\"],F.explode(parse_xml('visitors')).alias('visitors'))\n",
    "\n",
    "\n",
    "\n",
    "#final dataframe (answer for subques1)\n",
    "#display struct items individally and reassign the dataframe\n",
    "df2=df2.select(df2[\"sid\"],df2[\"Birth ID\"],df2[\"position\"],\\\n",
    "               df2[\"created_at\"],df2[\"updated_at\"],df2[\"meta\"],\\\n",
    "               df2[\"year\"],df2[\"first_name\"],df2[\"county\"],df2[\"sex\"],df2[\"name_count\"],\\\n",
    "               df2[\"visitors.id\"].alias(\"id of visitor\"),df2[\"visitors.age\"].alias(\"age of visitor\"),df2[\"visitors.sex\"].alias(\"sex of visitor\"))\n",
    "df2.show(truncate=False)"
   ]
  },
  {
   "cell_type": "markdown",
   "id": "5c1f6972",
   "metadata": {},
   "source": [
    "2. Find the county with the highest average number of visitors across all births in that county"
   ]
  },
  {
   "cell_type": "code",
   "execution_count": 68,
   "id": "a1d85606",
   "metadata": {},
   "outputs": [
    {
     "name": "stderr",
     "output_type": "stream",
     "text": [
      "                                                                                \r"
     ]
    },
    {
     "name": "stdout",
     "output_type": "stream",
     "text": [
      "+----------+--------------------------+\n",
      "|    county|Average Number of Visitors|\n",
      "+----------+--------------------------+\n",
      "|    SENECA|                       2.9|\n",
      "|    Otsego|        2.8823529411764706|\n",
      "|   Orleans|                      2.75|\n",
      "|  Chenango|         2.727272727272727|\n",
      "|    Putnam|        2.7261904761904763|\n",
      "|   Wyoming|        2.7142857142857144|\n",
      "|    WARREN|        2.6736842105263157|\n",
      "|    Warren|         2.652173913043478|\n",
      "|Rensselaer|         2.640909090909091|\n",
      "|   Clinton|        2.6363636363636362|\n",
      "|   ORLEANS|        2.6315789473684212|\n",
      "|  CHENANGO|                     2.625|\n",
      "|   GENESEE|         2.617283950617284|\n",
      "| SCHOHARIE|        2.6153846153846154|\n",
      "|    Oneida|        2.6136363636363638|\n",
      "|   WYOMING|         2.611111111111111|\n",
      "|  SULLIVAN|        2.6083333333333334|\n",
      "|   Madison|        2.6052631578947367|\n",
      "|Chautauqua|        2.6036585365853657|\n",
      "|    Ulster|         2.599009900990099|\n",
      "+----------+--------------------------+\n",
      "only showing top 20 rows\n",
      "\n"
     ]
    },
    {
     "name": "stderr",
     "output_type": "stream",
     "text": [
      "\r\n",
      "[Stage 251:>                                                        (0 + 8) / 8]\r\n",
      "\r\n",
      "[Stage 251:=====================>                                   (3 + 5) / 8]\r"
     ]
    },
    {
     "name": "stdout",
     "output_type": "stream",
     "text": [
      "County with highest average number of visitors across all births is SENECA\n"
     ]
    },
    {
     "name": "stderr",
     "output_type": "stream",
     "text": [
      "\r\n",
      "                                                                                \r"
     ]
    }
   ],
   "source": [
    "#subques2\n",
    "df3=df2.groupBy(df2[\"Birth ID\"],df2[\"county\"]).agg(f.count(df2[\"Birth ID\"]).alias(\"Number of Visitors\"))\n",
    "df3=df3.groupBy(df3[\"county\"]).agg(f.mean(df3[\"Number of Visitors\"]).alias(\"Average Number of Visitors\")).sort(f.col('Average Number of Visitors').desc())\n",
    "df3.show()\n",
    "print(\"County with highest average number of visitors across all births is {}\".format(df3.head()[0]))"
   ]
  },
  {
   "cell_type": "code",
   "execution_count": 69,
   "id": "a7dac0af",
   "metadata": {},
   "outputs": [
    {
     "name": "stdout",
     "output_type": "stream",
     "text": [
      "+-------------------------------+\n",
      "|Average Age of Vistors in KINGS|\n",
      "+-------------------------------+\n",
      "|34.72654917566799              |\n",
      "+-------------------------------+\n",
      "\n",
      "Average Age of visitors in KINGS is 34.72654917566799 years.\n"
     ]
    }
   ],
   "source": [
    "#creating a dataframe where values have not been exploded from struct format\n",
    "df=df.select(df[\"sid\"], F.col(\"id\").alias(\"Birth ID\"),df[\"position\"],\\\n",
    "             df[\"created_at\"],df[\"updated_at\"],df[\"meta\"],\\\n",
    "             df[\"year\"],df[\"first_name\"],df[\"county\"],df[\"sex\"],df[\"name_count\"],\\\n",
    "             F.explode(parse_xml('visitors')).alias('visitors'))#modify dataframe for subques(3-4)\n",
    "\n",
    "#modifying data for subques(3-4)\n",
    "df=df.where(df[\"county\"]==\"KINGS\")\n",
    "\n",
    "#sub-ques3\n",
    "df.agg(f.mean(df[\"visitors.age\"]).alias(\"Average Age of Vistors in KINGS\")).show(truncate=False)\n",
    "val=df.agg(f.mean(df[\"visitors.age\"]).alias(\"Average Age of Vistors in KINGS\")).head()\n",
    "print(\"Average Age of visitors in KINGS is {} years.\".format(val[0]))"
   ]
  },
  {
   "cell_type": "code",
   "execution_count": 70,
   "id": "887ffbe2",
   "metadata": {},
   "outputs": [
    {
     "name": "stdout",
     "output_type": "stream",
     "text": [
      "+---+-----+\n",
      "|age|count|\n",
      "+---+-----+\n",
      "| 58|  210|\n",
      "| 39|  206|\n",
      "| 49|  204|\n",
      "| 64|  203|\n",
      "| 36|  202|\n",
      "| 65|  202|\n",
      "| 61|  202|\n",
      "| 48|  197|\n",
      "| 47|  193|\n",
      "| 32|  193|\n",
      "| 20|  191|\n",
      "|  6|  191|\n",
      "| 51|  189|\n",
      "|  2|  189|\n",
      "| 25|  188|\n",
      "|  9|  188|\n",
      "| 18|  187|\n",
      "| 68|  186|\n",
      "| 57|  184|\n",
      "| 28|  183|\n",
      "+---+-----+\n",
      "only showing top 20 rows\n",
      "\n",
      "The most common birth visitor age is 58 with a frequency of 210 in the county KINGS.\n"
     ]
    }
   ],
   "source": [
    "#subques4\n",
    "age_count = df.groupby('visitors.age').count()\n",
    "age_count.sort(f.col('count').desc()).show()\n",
    "\n",
    "#head returns topmost array\n",
    "val=age_count.sort(f.col('count').desc()).head()\n",
    "print(\"The most common birth visitor age is {} with a frequency of {} in the county KINGS.\".format(val[0],val[1]))"
   ]
  }
 ],
 "metadata": {
  "interpreter": {
   "hash": "d2152fd7f0bbc62aa1baff8c990435d1e2c7175d001561303988032604c11a48"
  },
  "kernelspec": {
   "display_name": "Python 3 (ipykernel)",
   "language": "python",
   "name": "python3"
  },
  "language_info": {
   "codemirror_mode": {
    "name": "ipython",
    "version": 3
   },
   "file_extension": ".py",
   "mimetype": "text/x-python",
   "name": "python",
   "nbconvert_exporter": "python",
   "pygments_lexer": "ipython3",
   "version": "3.11.6"
  }
 },
 "nbformat": 4,
 "nbformat_minor": 5
}
